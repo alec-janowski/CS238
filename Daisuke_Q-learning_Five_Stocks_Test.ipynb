{
 "cells": [
  {
   "cell_type": "code",
   "execution_count": 80,
   "id": "registered-number",
   "metadata": {},
   "outputs": [],
   "source": [
    "import pandas as pd\n",
    "import random\n",
    "from tqdm import tqdm"
   ]
  },
  {
   "cell_type": "code",
   "execution_count": 45,
   "id": "labeled-governor",
   "metadata": {},
   "outputs": [],
   "source": [
    "PFE = pd.read_csv('PFE.csv', parse_dates=True)\n",
    "GE = pd.read_csv('GE.csv', parse_dates=True)\n",
    "JPM = pd.read_csv('JPM.csv', parse_dates=True)\n",
    "XOM = pd.read_csv('XOM.csv', parse_dates=True)\n",
    "MSFT = pd.read_csv('MSFT.csv', parse_dates=True)"
   ]
  },
  {
   "cell_type": "code",
   "execution_count": 46,
   "id": "egyptian-attachment",
   "metadata": {},
   "outputs": [
    {
     "data": {
      "text/html": [
       "<div>\n",
       "<style scoped>\n",
       "    .dataframe tbody tr th:only-of-type {\n",
       "        vertical-align: middle;\n",
       "    }\n",
       "\n",
       "    .dataframe tbody tr th {\n",
       "        vertical-align: top;\n",
       "    }\n",
       "\n",
       "    .dataframe thead th {\n",
       "        text-align: right;\n",
       "    }\n",
       "</style>\n",
       "<table border=\"1\" class=\"dataframe\">\n",
       "  <thead>\n",
       "    <tr style=\"text-align: right;\">\n",
       "      <th></th>\n",
       "      <th>Date</th>\n",
       "      <th>Open</th>\n",
       "      <th>High</th>\n",
       "      <th>Low</th>\n",
       "      <th>Close</th>\n",
       "      <th>Adj Close</th>\n",
       "      <th>Volume</th>\n",
       "    </tr>\n",
       "  </thead>\n",
       "  <tbody>\n",
       "    <tr>\n",
       "      <th>0</th>\n",
       "      <td>1990-11-06</td>\n",
       "      <td>2.989603</td>\n",
       "      <td>3.009369</td>\n",
       "      <td>2.964896</td>\n",
       "      <td>2.974779</td>\n",
       "      <td>1.183629</td>\n",
       "      <td>6799565</td>\n",
       "    </tr>\n",
       "    <tr>\n",
       "      <th>1</th>\n",
       "      <td>1990-11-07</td>\n",
       "      <td>2.964896</td>\n",
       "      <td>2.984662</td>\n",
       "      <td>2.945130</td>\n",
       "      <td>2.955013</td>\n",
       "      <td>1.175764</td>\n",
       "      <td>15635458</td>\n",
       "    </tr>\n",
       "    <tr>\n",
       "      <th>2</th>\n",
       "      <td>1990-11-08</td>\n",
       "      <td>2.945130</td>\n",
       "      <td>2.989603</td>\n",
       "      <td>2.940188</td>\n",
       "      <td>2.955013</td>\n",
       "      <td>1.175764</td>\n",
       "      <td>21220814</td>\n",
       "    </tr>\n",
       "    <tr>\n",
       "      <th>3</th>\n",
       "      <td>1990-11-09</td>\n",
       "      <td>2.964896</td>\n",
       "      <td>3.024194</td>\n",
       "      <td>2.959954</td>\n",
       "      <td>3.019252</td>\n",
       "      <td>1.211045</td>\n",
       "      <td>10358712</td>\n",
       "    </tr>\n",
       "    <tr>\n",
       "      <th>4</th>\n",
       "      <td>1990-11-12</td>\n",
       "      <td>3.039018</td>\n",
       "      <td>3.103257</td>\n",
       "      <td>3.039018</td>\n",
       "      <td>3.078550</td>\n",
       "      <td>1.234830</td>\n",
       "      <td>10902576</td>\n",
       "    </tr>\n",
       "  </tbody>\n",
       "</table>\n",
       "</div>"
      ],
      "text/plain": [
       "         Date      Open      High       Low     Close  Adj Close    Volume\n",
       "0  1990-11-06  2.989603  3.009369  2.964896  2.974779   1.183629   6799565\n",
       "1  1990-11-07  2.964896  2.984662  2.945130  2.955013   1.175764  15635458\n",
       "2  1990-11-08  2.945130  2.989603  2.940188  2.955013   1.175764  21220814\n",
       "3  1990-11-09  2.964896  3.024194  2.959954  3.019252   1.211045  10358712\n",
       "4  1990-11-12  3.039018  3.103257  3.039018  3.078550   1.234830  10902576"
      ]
     },
     "execution_count": 46,
     "metadata": {},
     "output_type": "execute_result"
    }
   ],
   "source": [
    "PFE.head()"
   ]
  },
  {
   "cell_type": "code",
   "execution_count": 56,
   "id": "invalid-sacramento",
   "metadata": {},
   "outputs": [],
   "source": [
    "frame = {'Date':PFE['Date'], 'PFE': PFE['Close'], 'GE': GE['Close'], 'JPM': JPM['Close'], 'XOM': XOM['Close'], 'MSFT': MSFT['Close'],}"
   ]
  },
  {
   "cell_type": "code",
   "execution_count": 57,
   "id": "attempted-recognition",
   "metadata": {},
   "outputs": [],
   "source": [
    "close_df = pd.DataFrame(frame)"
   ]
  },
  {
   "cell_type": "code",
   "execution_count": 58,
   "id": "studied-mother",
   "metadata": {},
   "outputs": [
    {
     "data": {
      "text/html": [
       "<div>\n",
       "<style scoped>\n",
       "    .dataframe tbody tr th:only-of-type {\n",
       "        vertical-align: middle;\n",
       "    }\n",
       "\n",
       "    .dataframe tbody tr th {\n",
       "        vertical-align: top;\n",
       "    }\n",
       "\n",
       "    .dataframe thead th {\n",
       "        text-align: right;\n",
       "    }\n",
       "</style>\n",
       "<table border=\"1\" class=\"dataframe\">\n",
       "  <thead>\n",
       "    <tr style=\"text-align: right;\">\n",
       "      <th></th>\n",
       "      <th>Date</th>\n",
       "      <th>PFE</th>\n",
       "      <th>GE</th>\n",
       "      <th>JPM</th>\n",
       "      <th>XOM</th>\n",
       "      <th>MSFT</th>\n",
       "    </tr>\n",
       "  </thead>\n",
       "  <tbody>\n",
       "    <tr>\n",
       "      <th>0</th>\n",
       "      <td>1990-11-06</td>\n",
       "      <td>2.974779</td>\n",
       "      <td>34.214745</td>\n",
       "      <td>3.708333</td>\n",
       "      <td>12.31250</td>\n",
       "      <td>0.892361</td>\n",
       "    </tr>\n",
       "    <tr>\n",
       "      <th>1</th>\n",
       "      <td>1990-11-07</td>\n",
       "      <td>2.955013</td>\n",
       "      <td>33.333332</td>\n",
       "      <td>3.583333</td>\n",
       "      <td>12.06250</td>\n",
       "      <td>0.885417</td>\n",
       "    </tr>\n",
       "    <tr>\n",
       "      <th>2</th>\n",
       "      <td>1990-11-08</td>\n",
       "      <td>2.955013</td>\n",
       "      <td>33.173077</td>\n",
       "      <td>3.750000</td>\n",
       "      <td>12.31250</td>\n",
       "      <td>0.881944</td>\n",
       "    </tr>\n",
       "    <tr>\n",
       "      <th>3</th>\n",
       "      <td>1990-11-09</td>\n",
       "      <td>3.019252</td>\n",
       "      <td>34.455128</td>\n",
       "      <td>3.708333</td>\n",
       "      <td>12.59375</td>\n",
       "      <td>0.899306</td>\n",
       "    </tr>\n",
       "    <tr>\n",
       "      <th>4</th>\n",
       "      <td>1990-11-12</td>\n",
       "      <td>3.078550</td>\n",
       "      <td>35.496796</td>\n",
       "      <td>4.000000</td>\n",
       "      <td>12.56250</td>\n",
       "      <td>0.956597</td>\n",
       "    </tr>\n",
       "  </tbody>\n",
       "</table>\n",
       "</div>"
      ],
      "text/plain": [
       "         Date       PFE         GE       JPM       XOM      MSFT\n",
       "0  1990-11-06  2.974779  34.214745  3.708333  12.31250  0.892361\n",
       "1  1990-11-07  2.955013  33.333332  3.583333  12.06250  0.885417\n",
       "2  1990-11-08  2.955013  33.173077  3.750000  12.31250  0.881944\n",
       "3  1990-11-09  3.019252  34.455128  3.708333  12.59375  0.899306\n",
       "4  1990-11-12  3.078550  35.496796  4.000000  12.56250  0.956597"
      ]
     },
     "execution_count": 58,
     "metadata": {},
     "output_type": "execute_result"
    }
   ],
   "source": [
    "close_df.head()"
   ]
  },
  {
   "cell_type": "code",
   "execution_count": 59,
   "id": "civil-founder",
   "metadata": {},
   "outputs": [
    {
     "name": "stdout",
     "output_type": "stream",
     "text": [
      "(1.075, -0.175, -0.4, -0.525, 1.025)\n"
     ]
    }
   ],
   "source": [
    "def generate_action():\n",
    "    num_stocks = 5\n",
    "    action = []\n",
    "    while(True):\n",
    "        for _ in range(num_stocks):\n",
    "            action.append(random.randrange(-50, 50))\n",
    "        if sum(action) != 0:\n",
    "            break\n",
    "    action = tuple([x/sum(action) for x in action])\n",
    "    return action\n",
    "action = generate_action()\n",
    "print(action)"
   ]
  },
  {
   "cell_type": "code",
   "execution_count": 81,
   "id": "encouraging-playback",
   "metadata": {},
   "outputs": [
    {
     "name": "stderr",
     "output_type": "stream",
     "text": [
      "7811it [00:28, 274.37it/s]\n"
     ]
    }
   ],
   "source": [
    "data = pd.DataFrame(columns =['s', 'a', 'r', 'sp'])\n",
    "for index, row in tqdm(close_df.iterrows()):\n",
    "    if row[\"Date\"] != \"2021-11-05\":\n",
    "        close_prices = (row[\"PFE\"], row[\"GE\"], row[\"JPM\"], row[\"XOM\"], row[\"MSFT\"])\n",
    "        weights = generate_action()\n",
    "        next_row = close_df.loc[index+1]\n",
    "        next_close_prices = (next_row[\"PFE\"], next_row[\"GE\"], next_row[\"JPM\"], next_row[\"XOM\"], next_row[\"MSFT\"])\n",
    "        \n",
    "        new_data = {'s': close_prices, 'a': weights, 'r': 0, 'sp': next_close_prices}\n",
    "        data = data.append(new_data, ignore_index=True)"
   ]
  },
  {
   "cell_type": "code",
   "execution_count": 82,
   "id": "comic-roman",
   "metadata": {},
   "outputs": [
    {
     "data": {
      "text/html": [
       "<div>\n",
       "<style scoped>\n",
       "    .dataframe tbody tr th:only-of-type {\n",
       "        vertical-align: middle;\n",
       "    }\n",
       "\n",
       "    .dataframe tbody tr th {\n",
       "        vertical-align: top;\n",
       "    }\n",
       "\n",
       "    .dataframe thead th {\n",
       "        text-align: right;\n",
       "    }\n",
       "</style>\n",
       "<table border=\"1\" class=\"dataframe\">\n",
       "  <thead>\n",
       "    <tr style=\"text-align: right;\">\n",
       "      <th></th>\n",
       "      <th>s</th>\n",
       "      <th>a</th>\n",
       "      <th>r</th>\n",
       "      <th>sp</th>\n",
       "    </tr>\n",
       "  </thead>\n",
       "  <tbody>\n",
       "    <tr>\n",
       "      <th>0</th>\n",
       "      <td>(2.9747790000000003, 34.214745, 3.708333, 12.3...</td>\n",
       "      <td>(0.36470588235294116, 0.4, 0.5647058823529412,...</td>\n",
       "      <td>0</td>\n",
       "      <td>(2.955013, 33.333332, 3.583333, 12.0625, 0.885...</td>\n",
       "    </tr>\n",
       "    <tr>\n",
       "      <th>1</th>\n",
       "      <td>(2.955013, 33.333332, 3.583333, 12.0625, 0.885...</td>\n",
       "      <td>(-0.5483870967741935, 0.3709677419354839, -0.3...</td>\n",
       "      <td>0</td>\n",
       "      <td>(2.955013, 33.173077, 3.75, 12.3125, 0.8819440...</td>\n",
       "    </tr>\n",
       "    <tr>\n",
       "      <th>2</th>\n",
       "      <td>(2.955013, 33.173077, 3.75, 12.3125, 0.8819440...</td>\n",
       "      <td>(0.14285714285714285, 1.1714285714285715, -0.7...</td>\n",
       "      <td>0</td>\n",
       "      <td>(3.019252, 34.455128, 3.708333, 12.59375, 0.89...</td>\n",
       "    </tr>\n",
       "    <tr>\n",
       "      <th>3</th>\n",
       "      <td>(3.019252, 34.455128, 3.708333, 12.59375, 0.89...</td>\n",
       "      <td>(-2.4, 3.2, 0.1, 1.2, -1.1)</td>\n",
       "      <td>0</td>\n",
       "      <td>(3.07855, 35.496796, 4.0, 12.5625, 0.956596999...</td>\n",
       "    </tr>\n",
       "    <tr>\n",
       "      <th>4</th>\n",
       "      <td>(3.07855, 35.496796, 4.0, 12.5625, 0.956596999...</td>\n",
       "      <td>(-0.32727272727272727, -0.41818181818181815, 0...</td>\n",
       "      <td>0</td>\n",
       "      <td>(3.123023, 35.576923, 3.916667, 12.5, 0.953125)</td>\n",
       "    </tr>\n",
       "  </tbody>\n",
       "</table>\n",
       "</div>"
      ],
      "text/plain": [
       "                                                   s  \\\n",
       "0  (2.9747790000000003, 34.214745, 3.708333, 12.3...   \n",
       "1  (2.955013, 33.333332, 3.583333, 12.0625, 0.885...   \n",
       "2  (2.955013, 33.173077, 3.75, 12.3125, 0.8819440...   \n",
       "3  (3.019252, 34.455128, 3.708333, 12.59375, 0.89...   \n",
       "4  (3.07855, 35.496796, 4.0, 12.5625, 0.956596999...   \n",
       "\n",
       "                                                   a  r  \\\n",
       "0  (0.36470588235294116, 0.4, 0.5647058823529412,...  0   \n",
       "1  (-0.5483870967741935, 0.3709677419354839, -0.3...  0   \n",
       "2  (0.14285714285714285, 1.1714285714285715, -0.7...  0   \n",
       "3                        (-2.4, 3.2, 0.1, 1.2, -1.1)  0   \n",
       "4  (-0.32727272727272727, -0.41818181818181815, 0...  0   \n",
       "\n",
       "                                                  sp  \n",
       "0  (2.955013, 33.333332, 3.583333, 12.0625, 0.885...  \n",
       "1  (2.955013, 33.173077, 3.75, 12.3125, 0.8819440...  \n",
       "2  (3.019252, 34.455128, 3.708333, 12.59375, 0.89...  \n",
       "3  (3.07855, 35.496796, 4.0, 12.5625, 0.956596999...  \n",
       "4    (3.123023, 35.576923, 3.916667, 12.5, 0.953125)  "
      ]
     },
     "execution_count": 82,
     "metadata": {},
     "output_type": "execute_result"
    }
   ],
   "source": [
    "data.head()"
   ]
  },
  {
   "cell_type": "code",
   "execution_count": 36,
   "id": "national-retention",
   "metadata": {},
   "outputs": [
    {
     "ename": "TypeError",
     "evalue": "cannot do index indexing on <class 'pandas.core.indexes.datetimes.DatetimeIndex'> with these indexers [0] of <class 'int'>",
     "output_type": "error",
     "traceback": [
      "\u001b[0;31m---------------------------------------------------------------------------\u001b[0m",
      "\u001b[0;31mTypeError\u001b[0m                                 Traceback (most recent call last)",
      "\u001b[0;32m<ipython-input-36-7029a2de745b>\u001b[0m in \u001b[0;36m<module>\u001b[0;34m\u001b[0m\n\u001b[0;32m----> 1\u001b[0;31m \u001b[0mclose_df\u001b[0m\u001b[0;34m.\u001b[0m\u001b[0mloc\u001b[0m\u001b[0;34m[\u001b[0m\u001b[0;36m0\u001b[0m\u001b[0;34m]\u001b[0m\u001b[0;34m[\u001b[0m\u001b[0;34m\"PFE\"\u001b[0m\u001b[0;34m]\u001b[0m\u001b[0;34m\u001b[0m\u001b[0;34m\u001b[0m\u001b[0m\n\u001b[0m",
      "\u001b[0;32m/anaconda3/lib/python3.7/site-packages/pandas/core/indexing.py\u001b[0m in \u001b[0;36m__getitem__\u001b[0;34m(self, key)\u001b[0m\n\u001b[1;32m   1498\u001b[0m \u001b[0;34m\u001b[0m\u001b[0m\n\u001b[1;32m   1499\u001b[0m             \u001b[0mmaybe_callable\u001b[0m \u001b[0;34m=\u001b[0m \u001b[0mcom\u001b[0m\u001b[0;34m.\u001b[0m\u001b[0mapply_if_callable\u001b[0m\u001b[0;34m(\u001b[0m\u001b[0mkey\u001b[0m\u001b[0;34m,\u001b[0m \u001b[0mself\u001b[0m\u001b[0;34m.\u001b[0m\u001b[0mobj\u001b[0m\u001b[0;34m)\u001b[0m\u001b[0;34m\u001b[0m\u001b[0;34m\u001b[0m\u001b[0m\n\u001b[0;32m-> 1500\u001b[0;31m             \u001b[0;32mreturn\u001b[0m \u001b[0mself\u001b[0m\u001b[0;34m.\u001b[0m\u001b[0m_getitem_axis\u001b[0m\u001b[0;34m(\u001b[0m\u001b[0mmaybe_callable\u001b[0m\u001b[0;34m,\u001b[0m \u001b[0maxis\u001b[0m\u001b[0;34m=\u001b[0m\u001b[0maxis\u001b[0m\u001b[0;34m)\u001b[0m\u001b[0;34m\u001b[0m\u001b[0;34m\u001b[0m\u001b[0m\n\u001b[0m\u001b[1;32m   1501\u001b[0m \u001b[0;34m\u001b[0m\u001b[0m\n\u001b[1;32m   1502\u001b[0m     \u001b[0;32mdef\u001b[0m \u001b[0m_is_scalar_access\u001b[0m\u001b[0;34m(\u001b[0m\u001b[0mself\u001b[0m\u001b[0;34m,\u001b[0m \u001b[0mkey\u001b[0m\u001b[0;34m)\u001b[0m\u001b[0;34m:\u001b[0m\u001b[0;34m\u001b[0m\u001b[0;34m\u001b[0m\u001b[0m\n",
      "\u001b[0;32m/anaconda3/lib/python3.7/site-packages/pandas/core/indexing.py\u001b[0m in \u001b[0;36m_getitem_axis\u001b[0;34m(self, key, axis)\u001b[0m\n\u001b[1;32m   1910\u001b[0m \u001b[0;34m\u001b[0m\u001b[0m\n\u001b[1;32m   1911\u001b[0m         \u001b[0;31m# fall thru to straight lookup\u001b[0m\u001b[0;34m\u001b[0m\u001b[0;34m\u001b[0m\u001b[0;34m\u001b[0m\u001b[0m\n\u001b[0;32m-> 1912\u001b[0;31m         \u001b[0mself\u001b[0m\u001b[0;34m.\u001b[0m\u001b[0m_validate_key\u001b[0m\u001b[0;34m(\u001b[0m\u001b[0mkey\u001b[0m\u001b[0;34m,\u001b[0m \u001b[0maxis\u001b[0m\u001b[0;34m)\u001b[0m\u001b[0;34m\u001b[0m\u001b[0;34m\u001b[0m\u001b[0m\n\u001b[0m\u001b[1;32m   1913\u001b[0m         \u001b[0;32mreturn\u001b[0m \u001b[0mself\u001b[0m\u001b[0;34m.\u001b[0m\u001b[0m_get_label\u001b[0m\u001b[0;34m(\u001b[0m\u001b[0mkey\u001b[0m\u001b[0;34m,\u001b[0m \u001b[0maxis\u001b[0m\u001b[0;34m=\u001b[0m\u001b[0maxis\u001b[0m\u001b[0;34m)\u001b[0m\u001b[0;34m\u001b[0m\u001b[0;34m\u001b[0m\u001b[0m\n\u001b[1;32m   1914\u001b[0m \u001b[0;34m\u001b[0m\u001b[0m\n",
      "\u001b[0;32m/anaconda3/lib/python3.7/site-packages/pandas/core/indexing.py\u001b[0m in \u001b[0;36m_validate_key\u001b[0;34m(self, key, axis)\u001b[0m\n\u001b[1;32m   1797\u001b[0m \u001b[0;34m\u001b[0m\u001b[0m\n\u001b[1;32m   1798\u001b[0m         \u001b[0;32mif\u001b[0m \u001b[0;32mnot\u001b[0m \u001b[0mis_list_like_indexer\u001b[0m\u001b[0;34m(\u001b[0m\u001b[0mkey\u001b[0m\u001b[0;34m)\u001b[0m\u001b[0;34m:\u001b[0m\u001b[0;34m\u001b[0m\u001b[0;34m\u001b[0m\u001b[0m\n\u001b[0;32m-> 1799\u001b[0;31m             \u001b[0mself\u001b[0m\u001b[0;34m.\u001b[0m\u001b[0m_convert_scalar_indexer\u001b[0m\u001b[0;34m(\u001b[0m\u001b[0mkey\u001b[0m\u001b[0;34m,\u001b[0m \u001b[0maxis\u001b[0m\u001b[0;34m)\u001b[0m\u001b[0;34m\u001b[0m\u001b[0;34m\u001b[0m\u001b[0m\n\u001b[0m\u001b[1;32m   1800\u001b[0m \u001b[0;34m\u001b[0m\u001b[0m\n\u001b[1;32m   1801\u001b[0m     \u001b[0;32mdef\u001b[0m \u001b[0m_is_scalar_access\u001b[0m\u001b[0;34m(\u001b[0m\u001b[0mself\u001b[0m\u001b[0;34m,\u001b[0m \u001b[0mkey\u001b[0m\u001b[0;34m)\u001b[0m\u001b[0;34m:\u001b[0m\u001b[0;34m\u001b[0m\u001b[0;34m\u001b[0m\u001b[0m\n",
      "\u001b[0;32m/anaconda3/lib/python3.7/site-packages/pandas/core/indexing.py\u001b[0m in \u001b[0;36m_convert_scalar_indexer\u001b[0;34m(self, key, axis)\u001b[0m\n\u001b[1;32m    260\u001b[0m         \u001b[0max\u001b[0m \u001b[0;34m=\u001b[0m \u001b[0mself\u001b[0m\u001b[0;34m.\u001b[0m\u001b[0mobj\u001b[0m\u001b[0;34m.\u001b[0m\u001b[0m_get_axis\u001b[0m\u001b[0;34m(\u001b[0m\u001b[0mmin\u001b[0m\u001b[0;34m(\u001b[0m\u001b[0maxis\u001b[0m\u001b[0;34m,\u001b[0m \u001b[0mself\u001b[0m\u001b[0;34m.\u001b[0m\u001b[0mndim\u001b[0m \u001b[0;34m-\u001b[0m \u001b[0;36m1\u001b[0m\u001b[0;34m)\u001b[0m\u001b[0;34m)\u001b[0m\u001b[0;34m\u001b[0m\u001b[0;34m\u001b[0m\u001b[0m\n\u001b[1;32m    261\u001b[0m         \u001b[0;31m# a scalar\u001b[0m\u001b[0;34m\u001b[0m\u001b[0;34m\u001b[0m\u001b[0;34m\u001b[0m\u001b[0m\n\u001b[0;32m--> 262\u001b[0;31m         \u001b[0;32mreturn\u001b[0m \u001b[0max\u001b[0m\u001b[0;34m.\u001b[0m\u001b[0m_convert_scalar_indexer\u001b[0m\u001b[0;34m(\u001b[0m\u001b[0mkey\u001b[0m\u001b[0;34m,\u001b[0m \u001b[0mkind\u001b[0m\u001b[0;34m=\u001b[0m\u001b[0mself\u001b[0m\u001b[0;34m.\u001b[0m\u001b[0mname\u001b[0m\u001b[0;34m)\u001b[0m\u001b[0;34m\u001b[0m\u001b[0;34m\u001b[0m\u001b[0m\n\u001b[0m\u001b[1;32m    263\u001b[0m \u001b[0;34m\u001b[0m\u001b[0m\n\u001b[1;32m    264\u001b[0m     \u001b[0;32mdef\u001b[0m \u001b[0m_convert_slice_indexer\u001b[0m\u001b[0;34m(\u001b[0m\u001b[0mself\u001b[0m\u001b[0;34m,\u001b[0m \u001b[0mkey\u001b[0m\u001b[0;34m,\u001b[0m \u001b[0maxis\u001b[0m\u001b[0;34m)\u001b[0m\u001b[0;34m:\u001b[0m\u001b[0;34m\u001b[0m\u001b[0;34m\u001b[0m\u001b[0m\n",
      "\u001b[0;32m/anaconda3/lib/python3.7/site-packages/pandas/core/indexes/datetimelike.py\u001b[0m in \u001b[0;36m_convert_scalar_indexer\u001b[0;34m(self, key, kind)\u001b[0m\n\u001b[1;32m    471\u001b[0m             \u001b[0mis_flt\u001b[0m \u001b[0;34m=\u001b[0m \u001b[0mis_float\u001b[0m\u001b[0;34m(\u001b[0m\u001b[0mkey\u001b[0m\u001b[0;34m)\u001b[0m\u001b[0;34m\u001b[0m\u001b[0;34m\u001b[0m\u001b[0m\n\u001b[1;32m    472\u001b[0m             \u001b[0;32mif\u001b[0m \u001b[0mkind\u001b[0m \u001b[0;32min\u001b[0m \u001b[0;34m[\u001b[0m\u001b[0;34m'loc'\u001b[0m\u001b[0;34m]\u001b[0m \u001b[0;32mand\u001b[0m \u001b[0;34m(\u001b[0m\u001b[0mis_int\u001b[0m \u001b[0;32mor\u001b[0m \u001b[0mis_flt\u001b[0m\u001b[0;34m)\u001b[0m\u001b[0;34m:\u001b[0m\u001b[0;34m\u001b[0m\u001b[0;34m\u001b[0m\u001b[0m\n\u001b[0;32m--> 473\u001b[0;31m                 \u001b[0mself\u001b[0m\u001b[0;34m.\u001b[0m\u001b[0m_invalid_indexer\u001b[0m\u001b[0;34m(\u001b[0m\u001b[0;34m'index'\u001b[0m\u001b[0;34m,\u001b[0m \u001b[0mkey\u001b[0m\u001b[0;34m)\u001b[0m\u001b[0;34m\u001b[0m\u001b[0;34m\u001b[0m\u001b[0m\n\u001b[0m\u001b[1;32m    474\u001b[0m             \u001b[0;32melif\u001b[0m \u001b[0mkind\u001b[0m \u001b[0;32min\u001b[0m \u001b[0;34m[\u001b[0m\u001b[0;34m'ix'\u001b[0m\u001b[0;34m,\u001b[0m \u001b[0;34m'getitem'\u001b[0m\u001b[0;34m]\u001b[0m \u001b[0;32mand\u001b[0m \u001b[0mis_flt\u001b[0m\u001b[0;34m:\u001b[0m\u001b[0;34m\u001b[0m\u001b[0;34m\u001b[0m\u001b[0m\n\u001b[1;32m    475\u001b[0m                 \u001b[0mself\u001b[0m\u001b[0;34m.\u001b[0m\u001b[0m_invalid_indexer\u001b[0m\u001b[0;34m(\u001b[0m\u001b[0;34m'index'\u001b[0m\u001b[0;34m,\u001b[0m \u001b[0mkey\u001b[0m\u001b[0;34m)\u001b[0m\u001b[0;34m\u001b[0m\u001b[0;34m\u001b[0m\u001b[0m\n",
      "\u001b[0;32m/anaconda3/lib/python3.7/site-packages/pandas/core/indexes/base.py\u001b[0m in \u001b[0;36m_invalid_indexer\u001b[0;34m(self, form, key)\u001b[0m\n\u001b[1;32m   3065\u001b[0m                         \"indexers [{key}] of {kind}\".format(\n\u001b[1;32m   3066\u001b[0m                             \u001b[0mform\u001b[0m\u001b[0;34m=\u001b[0m\u001b[0mform\u001b[0m\u001b[0;34m,\u001b[0m \u001b[0mklass\u001b[0m\u001b[0;34m=\u001b[0m\u001b[0mtype\u001b[0m\u001b[0;34m(\u001b[0m\u001b[0mself\u001b[0m\u001b[0;34m)\u001b[0m\u001b[0;34m,\u001b[0m \u001b[0mkey\u001b[0m\u001b[0;34m=\u001b[0m\u001b[0mkey\u001b[0m\u001b[0;34m,\u001b[0m\u001b[0;34m\u001b[0m\u001b[0;34m\u001b[0m\u001b[0m\n\u001b[0;32m-> 3067\u001b[0;31m                             kind=type(key)))\n\u001b[0m\u001b[1;32m   3068\u001b[0m \u001b[0;34m\u001b[0m\u001b[0m\n\u001b[1;32m   3069\u001b[0m     \u001b[0;31m# --------------------------------------------------------------------\u001b[0m\u001b[0;34m\u001b[0m\u001b[0;34m\u001b[0m\u001b[0;34m\u001b[0m\u001b[0m\n",
      "\u001b[0;31mTypeError\u001b[0m: cannot do index indexing on <class 'pandas.core.indexes.datetimes.DatetimeIndex'> with these indexers [0] of <class 'int'>"
     ]
    }
   ],
   "source": [
    "close_df.loc[0][\"PFE\"]"
   ]
  },
  {
   "cell_type": "code",
   "execution_count": null,
   "id": "approximate-lawyer",
   "metadata": {},
   "outputs": [],
   "source": []
  }
 ],
 "metadata": {
  "kernelspec": {
   "display_name": "Python 3",
   "language": "python",
   "name": "python3"
  },
  "language_info": {
   "codemirror_mode": {
    "name": "ipython",
    "version": 3
   },
   "file_extension": ".py",
   "mimetype": "text/x-python",
   "name": "python",
   "nbconvert_exporter": "python",
   "pygments_lexer": "ipython3",
   "version": "3.7.5"
  }
 },
 "nbformat": 4,
 "nbformat_minor": 5
}
