{
 "cells": [
  {
   "cell_type": "markdown",
   "id": "consolidated-composer",
   "metadata": {},
   "source": [
    "## Problem Definition\n",
    "State: Closing prices of the two stocks (JPM and MSFT) of that day \\\n",
    "Action: Change the weights in one of the two ways: (+0.1, -0.1), (-0.1, +0.1). The initial weights are (0.5, 0.5) \\\n",
    "Next State: Closing prices of the two stocks of the next day \\\n",
    "Reward: Increase or decrease of the daily return compared to the daily return without chaging the weights. \\\n",
    "\n",
    "## Approach\n",
    "Explore the entire state space and learn about all the transitions between states and rewards associated with transitions. Construct a list of (s, a, r, s') and then run a Q-learning algorithm on the constructed data to get the optimal policy. \\"
   ]
  },
  {
   "cell_type": "code",
   "execution_count": 1,
   "id": "registered-number",
   "metadata": {},
   "outputs": [],
   "source": [
    "import pandas as pd\n",
    "import numpy as np\n",
    "import random\n",
    "from tqdm import tqdm\n",
    "import matplotlib.pyplot as plt"
   ]
  },
  {
   "cell_type": "code",
   "execution_count": 2,
   "id": "encouraging-playback",
   "metadata": {},
   "outputs": [],
   "source": [
    "# Creates a list of (s, a, r, s')\n",
    "def construct_data(close_df):\n",
    "    data = pd.DataFrame(columns =['s', 'a', 'r', 'sp'])\n",
    "    for index, row in tqdm(close_df.iterrows()):\n",
    "        if row[\"Date\"] != \"2021-11-05\":\n",
    "            close_prices = (row[\"JPM\"], row[\"MSFT\"])\n",
    "            action = random.randint(0, 1)\n",
    "            next_row = close_df.loc[index+1]\n",
    "            next_close_prices = (next_row[\"JPM\"],  next_row[\"MSFT\"])\n",
    "            reward = compute_reward(close_prices, action, next_close_prices)\n",
    "            new_data = {'s': close_prices, 'a': action, 'r': reward * 1000, 'sp': next_close_prices}\n",
    "            data = data.append(new_data, ignore_index=True)\n",
    "    return data"
   ]
  },
  {
   "cell_type": "code",
   "execution_count": 7,
   "id": "disciplinary-bowling",
   "metadata": {},
   "outputs": [
    {
     "name": "stderr",
     "output_type": "stream",
     "text": [
      "7811it [00:22, 345.69it/s]"
     ]
    },
    {
     "name": "stdout",
     "output_type": "stream",
     "text": [
      "                                             s  a         r  \\\n",
      "0               (3.708333, 0.8923610000000001)  1  2.592626   \n",
      "1                         (3.583333, 0.885417)  1 -5.043417   \n",
      "2                   (3.75, 0.8819440000000001)  1  3.079726   \n",
      "3               (3.708333, 0.8993059999999999)  0  1.494599   \n",
      "4                    (4.0, 0.9565969999999999)  0 -1.720372   \n",
      "5                         (3.916667, 0.953125)  1 -4.044071   \n",
      "6                  (4.125, 0.9652780000000001)  1  0.692117   \n",
      "7                              (4.0, 0.942708)  0  1.899175   \n",
      "8     (4.0833330000000005, 0.9444440000000001)  1  0.165121   \n",
      "9     (4.1666669999999995, 0.9652780000000001)  0 -4.201450   \n",
      "10                        (3.916667, 0.947917)  0 -1.796392   \n",
      "11                 (3.875, 0.9548610000000001)  1  2.150529   \n",
      "12              (3.791667, 0.9548610000000001)  0  1.114919   \n",
      "13              (3.916667, 0.9756940000000001)  1  2.313225   \n",
      "14              (3.916667, 0.9982639999999999)  1  1.104566   \n",
      "15              (3.791667, 0.9774309999999999)  0 -4.539962   \n",
      "16                        (3.666667, 0.989583)  0  2.005570   \n",
      "17                        (3.791667, 1.003472)  0  3.245305   \n",
      "18                             (4.0, 1.026042)  0  3.320706   \n",
      "19              (4.1666669999999995, 1.034722)  0  6.993248   \n",
      "20                             (4.5, 1.045139)  0 -1.187340   \n",
      "21              (4.4166669999999995, 1.038194)  1 -0.668854   \n",
      "22               (4.4166669999999995, 1.03125)  1  2.493510   \n",
      "23              (4.2916669999999995, 1.027778)  0  0.592053   \n",
      "24              (4.2083330000000005, 1.001736)  0  0.470210   \n",
      "25                            (4.25, 1.006944)  0 -3.286081   \n",
      "26                           (4.125, 1.010417)  0 -5.243084   \n",
      "27                        (3.958333, 1.022569)  1  7.877808   \n",
      "28                        (3.666667, 1.027778)  1 -3.992631   \n",
      "29                           (3.875, 1.045139)  0  1.573584   \n",
      "...                                        ... ..       ...   \n",
      "7780          (163.03999299999998, 299.350006)  0  4.147000   \n",
      "7781                  (166.979996, 294.170013)  1 -3.081380   \n",
      "7782                  (166.080002, 283.519989)  1  0.247583   \n",
      "7783                       (165.949997, 284.0)  0 -0.629463   \n",
      "7784                  (163.690002, 281.920013)  1  0.445284   \n",
      "7785                  (167.130005, 289.100006)  1 -1.964249   \n",
      "7786                  (166.949997, 283.109985)  1  0.971437   \n",
      "7787           (168.66000400000001, 288.76001)  0 -1.292985   \n",
      "7788                  (169.020004, 293.109985)  1 -0.039415   \n",
      "7789          (170.08999599999999, 294.850006)  0  0.076433   \n",
      "7790                  (170.220001, 294.850006)  1  1.892887   \n",
      "7791                  (166.639999, 294.230011)  1  0.309295   \n",
      "7792                  (165.360001, 292.880005)  1  3.807798   \n",
      "7793                       (161.0, 296.309998)  1  0.639238   \n",
      "7794                      (163.470001, 302.75)  1 -1.438599   \n",
      "7795                  (166.610001, 304.209991)  1  1.048475   \n",
      "7796                  (166.550003, 307.290009)  0  0.906951   \n",
      "7797                  (168.570007, 308.230011)  1 -1.612652   \n",
      "7798          (170.83999599999999, 307.410004)  0 -1.874109   \n",
      "7799                        (169.5, 310.76001)  1 -1.860001   \n",
      "7800                  (171.779999, 309.160004)  0 -0.155835   \n",
      "7801                  (170.940002, 308.130005)  0 -0.373484   \n",
      "7802                  (171.399994, 310.109985)  1  6.294261   \n",
      "7803                  (167.830002, 323.170013)  0  1.142346   \n",
      "7804                  (170.360001, 324.350006)  1  2.517290   \n",
      "7805                  (169.889999, 331.619995)  1 -0.625514   \n",
      "7806                  (169.800003, 329.369995)  0 -0.746996   \n",
      "7807                  (170.470001, 333.130005)  0 -0.225962   \n",
      "7808                       (170.529999, 334.0)  0 -2.044095   \n",
      "7809          (168.28999299999998, 336.440002)  0 -0.029657   \n",
      "\n",
      "                                            sp  \n",
      "0                         (3.583333, 0.885417)  \n",
      "1                   (3.75, 0.8819440000000001)  \n",
      "2               (3.708333, 0.8993059999999999)  \n",
      "3                    (4.0, 0.9565969999999999)  \n",
      "4                         (3.916667, 0.953125)  \n",
      "5                  (4.125, 0.9652780000000001)  \n",
      "6                              (4.0, 0.942708)  \n",
      "7     (4.0833330000000005, 0.9444440000000001)  \n",
      "8     (4.1666669999999995, 0.9652780000000001)  \n",
      "9                         (3.916667, 0.947917)  \n",
      "10                 (3.875, 0.9548610000000001)  \n",
      "11              (3.791667, 0.9548610000000001)  \n",
      "12              (3.916667, 0.9756940000000001)  \n",
      "13              (3.916667, 0.9982639999999999)  \n",
      "14              (3.791667, 0.9774309999999999)  \n",
      "15                        (3.666667, 0.989583)  \n",
      "16                        (3.791667, 1.003472)  \n",
      "17                             (4.0, 1.026042)  \n",
      "18              (4.1666669999999995, 1.034722)  \n",
      "19                             (4.5, 1.045139)  \n",
      "20              (4.4166669999999995, 1.038194)  \n",
      "21               (4.4166669999999995, 1.03125)  \n",
      "22              (4.2916669999999995, 1.027778)  \n",
      "23              (4.2083330000000005, 1.001736)  \n",
      "24                            (4.25, 1.006944)  \n",
      "25                           (4.125, 1.010417)  \n",
      "26                        (3.958333, 1.022569)  \n",
      "27                        (3.666667, 1.027778)  \n",
      "28                           (3.875, 1.045139)  \n",
      "29                        (3.916667, 1.039931)  \n",
      "...                                        ...  \n",
      "7780                  (166.979996, 294.170013)  \n",
      "7781                  (166.080002, 283.519989)  \n",
      "7782                       (165.949997, 284.0)  \n",
      "7783                  (163.690002, 281.920013)  \n",
      "7784                  (167.130005, 289.100006)  \n",
      "7785                  (166.949997, 283.109985)  \n",
      "7786           (168.66000400000001, 288.76001)  \n",
      "7787                  (169.020004, 293.109985)  \n",
      "7788          (170.08999599999999, 294.850006)  \n",
      "7789                  (170.220001, 294.850006)  \n",
      "7790                  (166.639999, 294.230011)  \n",
      "7791                  (165.360001, 292.880005)  \n",
      "7792                       (161.0, 296.309998)  \n",
      "7793                      (163.470001, 302.75)  \n",
      "7794                  (166.610001, 304.209991)  \n",
      "7795                  (166.550003, 307.290009)  \n",
      "7796                  (168.570007, 308.230011)  \n",
      "7797          (170.83999599999999, 307.410004)  \n",
      "7798                        (169.5, 310.76001)  \n",
      "7799                  (171.779999, 309.160004)  \n",
      "7800                  (170.940002, 308.130005)  \n",
      "7801                  (171.399994, 310.109985)  \n",
      "7802                  (167.830002, 323.170013)  \n",
      "7803                  (170.360001, 324.350006)  \n",
      "7804                  (169.889999, 331.619995)  \n",
      "7805                  (169.800003, 329.369995)  \n",
      "7806                  (170.470001, 333.130005)  \n",
      "7807                       (170.529999, 334.0)  \n",
      "7808          (168.28999299999998, 336.440002)  \n",
      "7809                  (168.050003, 336.059998)  \n",
      "\n",
      "[7810 rows x 4 columns]\n"
     ]
    },
    {
     "name": "stderr",
     "output_type": "stream",
     "text": [
      "\n"
     ]
    }
   ],
   "source": [
    "JPM = pd.read_csv('JPM.csv', parse_dates=True)\n",
    "MSFT = pd.read_csv('MSFT.csv', parse_dates=True)\n",
    "close_df = pd.DataFrame({'Date':JPM['Date'], 'JPM': JPM['Close'], 'MSFT': MSFT['Close']})\n",
    "print(construct_data(close_df))"
   ]
  },
  {
   "cell_type": "code",
   "execution_count": 6,
   "id": "muslim-columbia",
   "metadata": {},
   "outputs": [],
   "source": [
    "# Comptues reward given (s, a, s')\n",
    "def compute_reward(s, a, sp):\n",
    "    unweighted_daily_returns = np.array([sp[i] / x for i, x in enumerate(s)])\n",
    "    if a == 0:\n",
    "        weight_change = np.array([0.1, -0.1])\n",
    "    else:\n",
    "        weight_change = np.array([-0.1, 0.1])\n",
    "    return np.dot(unweighted_daily_returns, weight_change) "
   ]
  },
  {
   "cell_type": "code",
   "execution_count": 18,
   "id": "approximate-lawyer",
   "metadata": {},
   "outputs": [],
   "source": [
    "# Find optimal policy using Q-learning (same algorithm for Project 2)\n",
    "def find_optimal_policy(data):\n",
    "    alpha = 0.8\n",
    "    gamma = 0.95  # discount factor\n",
    "    # map from each state-action pair to the estimated optimal Q-value\n",
    "    q_opt_estimate_map = {}\n",
    "    transition_reward_map = {}  # map from (s, a, s') to rewards\n",
    "    state_transition_map = {}  # map from each state to the next states\n",
    "    num_states = data.size // 4\n",
    "    num_actions = 2\n",
    "\n",
    "    # Iterates over rows of the data to store rewards for each transition and the next states of each state\n",
    "    for _, row in data.iterrows():\n",
    "        s = row['s']\n",
    "        a = row['a']\n",
    "        r = row['r']\n",
    "        sp = row['sp']\n",
    "        state_transition_map[s] = []\n",
    "        transition_reward_map[(s, a, sp)] = r\n",
    "        state_transition_map[s] += [sp]\n",
    "        for a in range(num_actions):\n",
    "            q_opt_estimate_map[(s, a)] = 0\n",
    "\n",
    "    num_updates = 5\n",
    "    # Updates each state-action pair's estimated optimal Q-value iteratively\n",
    "    for _ in range(num_updates):\n",
    "        for s, a in q_opt_estimate_map:\n",
    "            if s not in state_transition_map:\n",
    "                continue\n",
    "            for sp in state_transition_map[s]:\n",
    "                q_opt_estimate_at_next_state = float(\"-inf\")\n",
    "                # Finds the action that maximizes the estimated Q-value of the next state\n",
    "                for ap in range(num_actions):\n",
    "                    if (sp, ap) not in q_opt_estimate_map:\n",
    "                        q_opt_estimate_at_next_state = 0\n",
    "                        break\n",
    "                    if q_opt_estimate_map[(sp, ap)] > q_opt_estimate_at_next_state:\n",
    "                        q_opt_estimate_at_next_state = q_opt_estimate_map[sp, ap]\n",
    "                # Updates the Q-value using the Q-learning formula\n",
    "                q_opt_estimate_map[(s, a)] = (1 - alpha) * \\\n",
    "                    q_opt_estimate_map[(s, a)] + alpha * \\\n",
    "                    (transition_reward_map.get((s, a, sp), 0) +\n",
    "                     gamma * q_opt_estimate_at_next_state)\n",
    "\n",
    "    optimal_policy = {}\n",
    "    # Extract the optimal policy of each state from the estimated optimal Q-value of the state\n",
    "    for s, a in q_opt_estimate_map:\n",
    "        if s not in optimal_policy or q_opt_estimate_map[(s, a)] > q_opt_estimate_map[(s, optimal_policy[s])]:\n",
    "            optimal_policy[s] = a\n",
    "    return optimal_policy"
   ]
  },
  {
   "cell_type": "code",
   "execution_count": 28,
   "id": "disabled-anderson",
   "metadata": {},
   "outputs": [],
   "source": [
    "# Computes the total return that could be generated by using the optimal weights (policy)\n",
    "def compute_weighted_total_return(close_df, optimal_policy):\n",
    "    prev_weight = [0.5, 0.5]\n",
    "    total_return = 1\n",
    "    JPM_weight_history = [0.5]\n",
    "    MSFT_weight_history = [0.5]\n",
    "    for index, row in tqdm(close_df.iterrows()):\n",
    "        if row[\"Date\"] != \"2021-11-05\":\n",
    "            s = (row[\"JPM\"], row[\"MSFT\"])\n",
    "            a = optimal_policy[s]\n",
    "            next_row = close_df.loc[index+1]\n",
    "            sp = (next_row[\"JPM\"],  next_row[\"MSFT\"])\n",
    "            if a == 0:\n",
    "                weight = np.add(prev_weight, [0.1, -0.1])\n",
    "            else:\n",
    "                weight = np.add(prev_weight, [-0.1, 0.1])\n",
    "            JPM_weight_history.append(weight[0])\n",
    "            MSFT_weight_history.append(weight[1])\n",
    "            prev_pl = np.dot(prev_weight, s)\n",
    "            pl = np.dot(weight, sp)\n",
    "            daily_return = pl / prev_pl\n",
    "            prev_weight = weight\n",
    "            total_return *= daily_return\n",
    "    return (total_return, JPM_weight_history, MSFT_weight_history) "
   ]
  },
  {
   "cell_type": "code",
   "execution_count": 20,
   "id": "excess-factory",
   "metadata": {},
   "outputs": [],
   "source": [
    "# Computes the total return without using the weight optimization. This is the baseline.\n",
    "def compute_unweighted_total_return(close_df):\n",
    "    last_date = \"2021-11-05\"\n",
    "    weight = [0.5,0.5]\n",
    "    total_return = 1\n",
    "    for index, row in tqdm(close_df.iterrows()):\n",
    "        if row[\"Date\"] != last_date:\n",
    "            s = (row[\"JPM\"], row[\"MSFT\"])\n",
    "            next_row = close_df.loc[index+1]\n",
    "            sp = (next_row[\"JPM\"],  next_row[\"MSFT\"])\n",
    "            prev_pl = np.dot(weight, s)\n",
    "            pl = np.dot(weight, sp)\n",
    "            daily_return = pl / prev_pl\n",
    "            total_return *= daily_return\n",
    "    return total_return"
   ]
  },
  {
   "cell_type": "code",
   "execution_count": 29,
   "id": "equal-diabetes",
   "metadata": {},
   "outputs": [
    {
     "name": "stderr",
     "output_type": "stream",
     "text": [
      "7811it [00:26, 297.71it/s]\n",
      "7811it [00:02, 2772.51it/s]\n",
      "7811it [00:02, 3290.31it/s]"
     ]
    },
    {
     "name": "stdout",
     "output_type": "stream",
     "text": [
      "Total return if unweighted:  109.57259948173066\n",
      "Total return if weight is optimized:  1029.8363409955123\n"
     ]
    },
    {
     "name": "stderr",
     "output_type": "stream",
     "text": [
      "\n"
     ]
    }
   ],
   "source": [
    "JPM = pd.read_csv('JPM.csv', parse_dates=True)\n",
    "MSFT = pd.read_csv('MSFT.csv', parse_dates=True)\n",
    "close_df = pd.DataFrame({'Date':JPM['Date'], 'JPM': JPM['Close'], 'MSFT': MSFT['Close']})\n",
    "data = construct_data(close_df)\n",
    "optimal_policy = find_optimal_policy(data)\n",
    "weighted_total_return, JPM_weight_history, MSFT_weight_history = compute_weighted_total_return(close_df, optimal_policy)\n",
    "unweighted_total_return = compute_unweighted_total_return(close_df)\n",
    "print(\"Total return if unweighted: \", unweighted_total_return)\n",
    "print(\"Total return if weight is optimized: \", weighted_total_return)"
   ]
  },
  {
   "cell_type": "code",
   "execution_count": 31,
   "id": "prepared-somewhere",
   "metadata": {},
   "outputs": [
    {
     "data": {
      "image/png": "[encoded data removed]",
      "text/plain": [
       "<Figure size 432x288 with 1 Axes>"
      ]
     },
     "metadata": {
      "needs_background": "light"
     },
     "output_type": "display_data"
    }
   ],
   "source": [
    "'''\n",
    "You can see that it is better to have a long position for JPM and a short position for MSFT for the first half. \n",
    "But after that period, it is better to have a long position for MSFT and a short position for JPM.\n",
    "''' \n",
    "plt.plot(JPM_weight_history)\n",
    "plt.plot(MSFT_weight_history)\n",
    "plt.show()"
   ]
  }
 ],
 "metadata": {
  "kernelspec": {
   "display_name": "Python 3",
   "language": "python",
   "name": "python3"
  },
  "language_info": {
   "codemirror_mode": {
    "name": "ipython",
    "version": 3
   },
   "file_extension": ".py",
   "mimetype": "text/x-python",
   "name": "python",
   "nbconvert_exporter": "python",
   "pygments_lexer": "ipython3",
   "version": "3.7.5"
  }
 },
 "nbformat": 4,
 "nbformat_minor": 5
}
